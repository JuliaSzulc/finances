{
 "cells": [
  {
   "cell_type": "code",
   "execution_count": null,
   "metadata": {},
   "outputs": [],
   "source": [
    "import pandas as pd\n",
    "import json"
   ]
  },
  {
   "cell_type": "code",
   "execution_count": null,
   "metadata": {},
   "outputs": [],
   "source": [
    "month = input(\"yymm\")"
   ]
  },
  {
   "cell_type": "markdown",
   "metadata": {},
   "source": [
    "#### Read bank data"
   ]
  },
  {
   "cell_type": "code",
   "execution_count": null,
   "metadata": {},
   "outputs": [],
   "source": [
    "cols = {\"Transaktionsdag\": \"date\", \"Referens\": \"ref\", \"Beskrivning\": \"info\", \"Belopp\": \"amount\"}\n",
    "dtypes = {\"Beskrivning\": \"string\", \"Belopp\": \"float64\"}\n",
    "\n",
    "df = pd.read_csv(\n",
    "    f\"data/bank/{month}.csv\",\n",
    "    skiprows=1,\n",
    "    usecols=cols.keys(),\n",
    "    dtype=dtypes,\n",
    "    parse_dates=[\"Transaktionsdag\"],\n",
    ").rename(columns=cols).iloc[::-1].reset_index(drop=True)\n",
    "\n",
    "# drop transfer to savings account and to Revolut\n",
    "df = df[(df[\"ref\"] != \"832797349214242\") & (~df[\"ref\"].str.contains(\"Revolut\"))]\n",
    "\n",
    "df.head()"
   ]
  },
  {
   "cell_type": "markdown",
   "metadata": {},
   "source": [
    "#### Add Revolut data"
   ]
  },
  {
   "cell_type": "code",
   "execution_count": null,
   "metadata": {},
   "outputs": [],
   "source": [
    "cols = {\"Started Date\": \"date\", \"Description\": \"info\", \"Amount\": \"amount\"}\n",
    "dtypes = {\"Description\": \"string\", \"Amount\": \"float64\"}\n",
    "\n",
    "df_revolut = pd.read_csv(\n",
    "    f\"data/revolut/{month}.csv\",\n",
    "    usecols=[\"Started Date\", \"Description\", \"Amount\"],\n",
    "    parse_dates=[\"Started Date\"],\n",
    "    date_parser=lambda x: pd.to_datetime(x).normalize(),\n",
    "    dtype=dtypes,\n",
    ").rename(columns=cols)\n",
    "df_revolut.insert(1, \"ref\", \"\")\n",
    "\n",
    "# drop top-ups\n",
    "df_revolut = df_revolut[(df_revolut[\"info\"] != \"Card Top-Up\")]\n",
    "\n",
    "df = pd.concat([df, df_revolut], axis=0, ignore_index=True).sort_values(\"date\").reset_index(drop=True)\n",
    "df"
   ]
  },
  {
   "cell_type": "markdown",
   "metadata": {},
   "source": [
    "#### Add categories"
   ]
  },
  {
   "cell_type": "code",
   "execution_count": null,
   "metadata": {},
   "outputs": [],
   "source": [
    "df[\"category\"] = pd.NA\n",
    "\n",
    "with open(\"categories.json\") as fp:\n",
    "    category_map = json.load(fp)\n",
    "    \n",
    "for category, patterns in category_map.items():\n",
    "    for p in patterns:\n",
    "        df.loc[df[\"info\"].str.contains(p, case=False), \"category\"] = category\n",
    "\n",
    "df"
   ]
  },
  {
   "cell_type": "code",
   "execution_count": null,
   "metadata": {},
   "outputs": [],
   "source": [
    "df[df[\"category\"].isna()]"
   ]
  },
  {
   "cell_type": "code",
   "execution_count": null,
   "metadata": {},
   "outputs": [],
   "source": [
    "import time\n",
    "from IPython.display import clear_output\n",
    "\n",
    "for idx, row in df[df[\"category\"].isna()].iterrows():\n",
    "    display(row.to_frame().T)\n",
    "    category = input()\n",
    "    while category := input() not in category_map.keys():\n",
    "        print(f\"Unknown category {category}\")\n",
    "        category = input()\n",
    "    df.loc[idx, \"category\"] = category\n",
    "    clear_output()"
   ]
  },
  {
   "cell_type": "code",
   "execution_count": null,
   "metadata": {},
   "outputs": [],
   "source": [
    "df"
   ]
  },
  {
   "cell_type": "markdown",
   "metadata": {},
   "source": [
    "#### Append to `history.csv`"
   ]
  },
  {
   "cell_type": "code",
   "execution_count": null,
   "metadata": {},
   "outputs": [],
   "source": [
    "history_path = \"data/history.csv\"\n",
    "history_df = pd.read_csv(history_path, parse_dates=[\"date\"])"
   ]
  },
  {
   "cell_type": "code",
   "execution_count": null,
   "metadata": {},
   "outputs": [],
   "source": [
    "if df[\"date\"].isin(history_df[\"date\"]).sum() > len(df) / 2:\n",
    "    raise ValueError(\"The data might already be added to the history.\")\n",
    "else:\n",
    "    history_df = pd.concat([history_df, df], axis=0, ignore_index=True).sort_values(\"date\")\n",
    "    history_df.to_csv(history_path, index=False)"
   ]
  }
 ],
 "metadata": {
  "kernelspec": {
   "display_name": "Python 3.9.13 ('money')",
   "language": "python",
   "name": "python3"
  },
  "language_info": {
   "codemirror_mode": {
    "name": "ipython",
    "version": 3
   },
   "file_extension": ".py",
   "mimetype": "text/x-python",
   "name": "python",
   "nbconvert_exporter": "python",
   "pygments_lexer": "ipython3",
   "version": "3.9.13"
  },
  "orig_nbformat": 4,
  "vscode": {
   "interpreter": {
    "hash": "83b5b23a73f62c7b353e4600f04cf586deb099c6f10b3e0ca2acc9da09d3c2db"
   }
  }
 },
 "nbformat": 4,
 "nbformat_minor": 2
}
